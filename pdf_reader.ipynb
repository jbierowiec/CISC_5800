{
 "cells": [
  {
   "cell_type": "code",
   "execution_count": 1,
   "id": "304ed5c1",
   "metadata": {},
   "outputs": [],
   "source": [
    "import fitz  # PyMuPDF\n",
    "import os\n",
    "\n",
    "def convert_pdf_to_images(pdf_path, output_folder='./output/pages'):\n",
    "    os.makedirs(output_folder, exist_ok=True)\n",
    "    doc = fitz.open(pdf_path)\n",
    "    image_paths = []\n",
    "    for i in range(len(doc)):\n",
    "        page = doc[i]\n",
    "        pix = page.get_pixmap(dpi=300)\n",
    "        img_path = os.path.join(output_folder, f\"{os.path.basename(pdf_path).replace('.pdf','')}_page_{i}.png\")\n",
    "        pix.save(img_path)\n",
    "        image_paths.append(img_path)\n",
    "    return image_paths\n",
    "\n",
    "# Run this for both PDFs\n",
    "integral_page = convert_pdf_to_images(\"./data/PDFS/integration.pdf\", \"./output/pages\")\n",
    "addition_page = convert_pdf_to_images(\"./data/PDFS/addition.pdf\", \"./output/pages\")\n",
    "subtraction_page = convert_pdf_to_images(\"./data/PDFS/subtraction.pdf\", \"./output/pages\")\n",
    "multiplication_page = convert_pdf_to_images(\"./data/PDFS/multiplication.pdf\", \"./output/pages\")\n",
    "division_page = convert_pdf_to_images(\"./data/PDFS/division.pdf\", \"./output/pages\")"
   ]
  },
  {
   "cell_type": "code",
   "execution_count": 2,
   "id": "e029063d",
   "metadata": {},
   "outputs": [],
   "source": [
    "import cv2\n",
    "import numpy as np\n",
    "\n",
    "def extract_symbols_from_page(image_path, output_folder=\"./output/symbols\", min_area=100):\n",
    "    os.makedirs(output_folder, exist_ok=True)\n",
    "    img = cv2.imread(image_path, cv2.IMREAD_GRAYSCALE)\n",
    "    _, binary = cv2.threshold(img, 0, 255, cv2.THRESH_BINARY_INV + cv2.THRESH_OTSU)\n",
    "\n",
    "    # Clean small noise\n",
    "    kernel = np.ones((2,2), np.uint8)\n",
    "    denoised = cv2.morphologyEx(binary, cv2.MORPH_OPEN, kernel)\n",
    "\n",
    "    contours, _ = cv2.findContours(denoised, cv2.RETR_EXTERNAL, cv2.CHAIN_APPROX_SIMPLE)\n",
    "\n",
    "    for idx, cnt in enumerate(contours):\n",
    "        x, y, w, h = cv2.boundingRect(cnt)\n",
    "        if w * h > min_area:\n",
    "            roi = denoised[y:y+h, x:x+w]\n",
    "            resized = cv2.resize(roi, (28, 28))\n",
    "            fname = f\"{os.path.basename(image_path).replace('.png', '')}_sym{idx}.png\"\n",
    "            cv2.imwrite(os.path.join(output_folder, fname), resized)\n",
    "\n",
    "for page in integral_page + addition_page + subtraction_page + multiplication_page + division_page:\n",
    "    extract_symbols_from_page(page)"
   ]
  },
  {
   "cell_type": "code",
   "execution_count": 3,
   "id": "92bae237",
   "metadata": {},
   "outputs": [
    {
     "name": "stdout",
     "output_type": "stream",
     "text": [
      "27 entries written to labels.csv\n"
     ]
    }
   ],
   "source": [
    "import os\n",
    "import pandas as pd\n",
    "\n",
    "def create_labels_csv(image_folder='./output/symbols', output_file='labels.csv'):\n",
    "    image_files = sorted([f for f in os.listdir(image_folder) if f.endswith('.png')])\n",
    "    df = pd.DataFrame({'filename': image_files, 'label': [''] * len(image_files)})\n",
    "    df.to_csv(output_file, index=False)\n",
    "    print(f\"{len(image_files)} entries written to {output_file}\")\n",
    "\n",
    "# Run this\n",
    "create_labels_csv()"
   ]
  }
 ],
 "metadata": {
  "kernelspec": {
   "display_name": "base",
   "language": "python",
   "name": "python3"
  },
  "language_info": {
   "codemirror_mode": {
    "name": "ipython",
    "version": 3
   },
   "file_extension": ".py",
   "mimetype": "text/x-python",
   "name": "python",
   "nbconvert_exporter": "python",
   "pygments_lexer": "ipython3",
   "version": "3.12.4"
  }
 },
 "nbformat": 4,
 "nbformat_minor": 5
}
